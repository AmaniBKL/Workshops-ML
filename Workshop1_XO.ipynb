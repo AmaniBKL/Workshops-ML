{
  "nbformat": 4,
  "nbformat_minor": 0,
  "metadata": {
    "colab": {
      "name": "Workshop1 : XO.ipynb",
      "provenance": [],
      "collapsed_sections": [],
      "include_colab_link": true
    },
    "kernelspec": {
      "name": "python3",
      "display_name": "Python 3"
    },
    "language_info": {
      "name": "python"
    }
  },
  "cells": [
    {
      "cell_type": "markdown",
      "metadata": {
        "id": "view-in-github",
        "colab_type": "text"
      },
      "source": [
        "<a href=\"https://colab.research.google.com/github/AmaniBKL/Workshops-ML/blob/main/Workshop1_XO.ipynb\" target=\"_parent\"><img src=\"https://colab.research.google.com/assets/colab-badge.svg\" alt=\"Open In Colab\"/></a>"
      ]
    },
    {
      "cell_type": "code",
      "metadata": {
        "id": "CIKuzX0uDv6C"
      },
      "source": [
        "def draw_line(width, border, filling) : \n",
        "  print(filling.join([border]*(width + 1)))"
      ],
      "execution_count": null,
      "outputs": []
    },
    {
      "cell_type": "code",
      "metadata": {
        "id": "0oeGYVDnHlo7"
      },
      "source": [
        "def start_game() : \n",
        "  return [[0, 0, 0] for i in range(3)]"
      ],
      "execution_count": null,
      "outputs": []
    },
    {
      "cell_type": "code",
      "metadata": {
        "id": "DbUiyKjkHLCv"
      },
      "source": [
        "def display_game(game) : \n",
        "  draw_line(3, ' ', '_')\n",
        "  d = {2 : 'O', 1 : 'X', 0 : '_'}\n",
        "  for row_num in range(3) : \n",
        "    new_row = []\n",
        "    for col_num in range(3) : \n",
        "      new_row.append(d[game[row_num][col_num]])\n",
        "    print('|' + '|'.join(new_row) + '|')"
      ],
      "execution_count": null,
      "outputs": []
    },
    {
      "cell_type": "code",
      "metadata": {
        "colab": {
          "base_uri": "https://localhost:8080/"
        },
        "id": "YGqvFaurKIu8",
        "outputId": "f81252ce-bde0-468e-b628-ffee795323ad"
      },
      "source": [
        "my_game = start_game()\n",
        "display_game(my_game)"
      ],
      "execution_count": null,
      "outputs": [
        {
          "output_type": "stream",
          "name": "stdout",
          "text": [
            " _ _ _ \n",
            "|_|_|_|\n",
            "|_|_|_|\n",
            "|_|_|_|\n"
          ]
        }
      ]
    },
    {
      "cell_type": "code",
      "metadata": {
        "id": "8de2k2JvKWSm"
      },
      "source": [
        "def get_row(game, row_num) : \n",
        "  return game[row_num]\n",
        "\n",
        "def get_col(game, col_num) : \n",
        "  return [game[i][col_num] for i in range(3)]"
      ],
      "execution_count": null,
      "outputs": []
    },
    {
      "cell_type": "code",
      "metadata": {
        "id": "ey_OpNI6LP5G"
      },
      "source": [
        "def check_winner(liste) : \n",
        "  if liste[0] == liste[1] and liste[1] == liste[2] : \n",
        "    return liste[0]\n",
        "  return 0"
      ],
      "execution_count": null,
      "outputs": []
    },
    {
      "cell_type": "code",
      "metadata": {
        "id": "pF7_8xYOL1Fe"
      },
      "source": [
        "def divide_game(game) : \n",
        "  possibilities = []\n",
        "  for i in range(3) : \n",
        "    possibilities.append(get_row(game, i))\n",
        "    possibilities.append(get_col(game, i))\n",
        "  diag1 = [game[i][i] for i in range(3)]\n",
        "  diag2 = [game[0][2], game[1][1], game[2][0]]\n",
        "  possibilities.append(diag1)\n",
        "  possibilities.append(diag2)\n",
        "\n",
        "  for j in possibilities : \n",
        "    winner = check_winner(j)\n",
        "    if winner != 0 : \n",
        "      return winner\n",
        "  return winner"
      ],
      "execution_count": null,
      "outputs": []
    },
    {
      "cell_type": "code",
      "metadata": {
        "id": "WHlKZnBCN4A3"
      },
      "source": [
        "def check_space(game, row, col) : \n",
        "  return game[row][col] == 0"
      ],
      "execution_count": null,
      "outputs": []
    },
    {
      "cell_type": "code",
      "metadata": {
        "id": "0QjcCLiMOPqb"
      },
      "source": [
        "def moves_exist(game) : \n",
        "  for i in range(3) : \n",
        "    for j in range(3) : \n",
        "      if game[i][j] == 0 : \n",
        "        return True\n",
        "  return False"
      ],
      "execution_count": null,
      "outputs": []
    },
    {
      "cell_type": "code",
      "metadata": {
        "id": "WLi2tuAZO0BR"
      },
      "source": [
        "def add_mark(game, player, row, col) : \n",
        "  game[row][col] = player\n",
        "  return game"
      ],
      "execution_count": null,
      "outputs": []
    },
    {
      "cell_type": "code",
      "metadata": {
        "id": "8mDwkUnwPHFX"
      },
      "source": [
        "def switch_player(player) : \n",
        "  if player == 1 : \n",
        "    return 2\n",
        "  else : \n",
        "    return 1"
      ],
      "execution_count": null,
      "outputs": []
    },
    {
      "cell_type": "code",
      "metadata": {
        "id": "CU6w9DeWPbNT"
      },
      "source": [
        "def display_winner(winner) : \n",
        "  if winner == 0 : \n",
        "    print('NUL')\n",
        "  else : \n",
        "    print('Player' + str(winner) + ' has won !')"
      ],
      "execution_count": null,
      "outputs": []
    },
    {
      "cell_type": "code",
      "metadata": {
        "colab": {
          "base_uri": "https://localhost:8080/"
        },
        "id": "dFjHabKjP2EQ",
        "outputId": "551d1754-38c2-431a-e4b8-dee67985102d"
      },
      "source": [
        "my_game = start_game()\n",
        "display_game(my_game)\n",
        "player = 1\n",
        "winner = 0"
      ],
      "execution_count": null,
      "outputs": [
        {
          "output_type": "stream",
          "name": "stdout",
          "text": [
            " _ _ _ \n",
            "|_|_|_|\n",
            "|_|_|_|\n",
            "|_|_|_|\n"
          ]
        }
      ]
    },
    {
      "cell_type": "code",
      "metadata": {
        "colab": {
          "base_uri": "https://localhost:8080/"
        },
        "id": "pdSv0CobQKCz",
        "outputId": "e24a5077-ed91-49a8-ac52-4016eab4eccd"
      },
      "source": [
        "while winner == 0 and moves_exist(my_game) : \n",
        "  print('it\\'s player\\'s' + str(player) + ' turn')\n",
        "  available = False\n",
        "  while not available : \n",
        "    row = int(input('Donnez la ligne')) - 1\n",
        "    col = int(input('Donnez la colonne')) - 1\n",
        "    available = check_space(my_game, row, col)\n",
        "  add_mark(my_game, player, row, col)\n",
        "  display_game(my_game)\n",
        "  player = switch_player(player)\n",
        "  winner = divide_game(my_game)\n",
        "display_winner(winner)"
      ],
      "execution_count": null,
      "outputs": [
        {
          "output_type": "stream",
          "name": "stdout",
          "text": [
            "it's player's1 turn\n",
            "Donnez la ligne1\n",
            "Donnez la colonne3\n",
            " _ _ _ \n",
            "|_|_|X|\n",
            "|_|_|_|\n",
            "|_|_|_|\n",
            "it's player's2 turn\n",
            "Donnez la ligne2\n",
            "Donnez la colonne2\n",
            " _ _ _ \n",
            "|_|_|X|\n",
            "|_|O|_|\n",
            "|_|_|_|\n",
            "it's player's1 turn\n",
            "Donnez la ligne2\n",
            "Donnez la colonne3\n",
            " _ _ _ \n",
            "|_|_|X|\n",
            "|_|O|X|\n",
            "|_|_|_|\n",
            "it's player's2 turn\n",
            "Donnez la ligne1\n",
            "Donnez la colonne1\n",
            " _ _ _ \n",
            "|O|_|X|\n",
            "|_|O|X|\n",
            "|_|_|_|\n",
            "it's player's1 turn\n",
            "Donnez la ligne3\n",
            "Donnez la colonne3\n",
            " _ _ _ \n",
            "|O|_|X|\n",
            "|_|O|X|\n",
            "|_|_|X|\n",
            "Player1 has won !\n"
          ]
        }
      ]
    }
  ]
}